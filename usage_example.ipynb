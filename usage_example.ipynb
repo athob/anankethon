{
 "cells": [
  {
   "attachments": {},
   "cell_type": "markdown",
   "metadata": {},
   "source": [
    "Loading here all our modules"
   ]
  },
  {
   "cell_type": "code",
   "execution_count": null,
   "metadata": {},
   "outputs": [],
   "source": [
    "import pathlib\n",
    "import numpy as np\n",
    "from matplotlib import pyplot as plt\n",
    "from matplotlib.colors import LogNorm\n",
    "\n",
    "import gizmo_analysis as ga\n",
    "import ananke as an"
   ]
  },
  {
   "attachments": {},
   "cell_type": "markdown",
   "metadata": {},
   "source": [
    "Configuring matplotlib"
   ]
  },
  {
   "cell_type": "code",
   "execution_count": null,
   "metadata": {},
   "outputs": [],
   "source": [
    "plt.rcdefaults()\n",
    "plt.rc('font', size=17)\n",
    "plt.rc('axes', unicode_minus=False)\n",
    "%matplotlib inline"
   ]
  },
  {
   "attachments": {},
   "cell_type": "markdown",
   "metadata": {},
   "source": [
    "Defining here some parameters"
   ]
  },
  {
   "cell_type": "code",
   "execution_count": null,
   "metadata": {},
   "outputs": [],
   "source": [
    "# simulation specific\n",
    "simulation = 'm11h_res7100'\n",
    "redshift = 0.\n",
    "\n",
    "# plotting specific\n",
    "cmap = 'bone'\n",
    "hex_cmap = 'cividis'\n",
    "kpc_aperture = 30\n",
    "kpc_pixel = 0.5\n",
    "sky_pix_deg = 1\n",
    "\n",
    "# ananke specific\n",
    "fsample = 0.3\n",
    "\n",
    "# systemm specific\n",
    "latte_directory = pathlib.Path('/home/altair/Data/latte')\n",
    "\n",
    "# don't change\n",
    "sim_dir = latte_directory / simulation\n",
    "cmap = plt.get_cmap(cmap)\n",
    "hex_cmap = plt.get_cmap(hex_cmap)"
   ]
  },
  {
   "attachments": {},
   "cell_type": "markdown",
   "metadata": {},
   "source": [
    "Read in star particles from the selected `latte` snapshot"
   ]
  },
  {
   "cell_type": "code",
   "execution_count": null,
   "metadata": {},
   "outputs": [],
   "source": [
    "part = ga.io.Read.read_snapshots(species='star',\n",
    "                                 snapshot_value_kind='redshift',\n",
    "                                 snapshot_values=redshift,\n",
    "                                 simulation_directory=str(sim_dir.resolve()),\n",
    "                                 elements='all',\n",
    "                                 assign_hosts=True,\n",
    "                                 assign_hosts_rotation=True,\n",
    "                                 assign_orbits=True)"
   ]
  },
  {
   "attachments": {},
   "cell_type": "markdown",
   "metadata": {},
   "source": [
    "Let's have a look at the particle data in the host principal axes -> (x,y,z) = (major,intermediate,minor)"
   ]
  },
  {
   "cell_type": "code",
   "execution_count": null,
   "metadata": {},
   "outputs": [],
   "source": [
    "# array of positions in principal axes (in kpc)\n",
    "pos_pa = part['star'].prop('host.distance.principal')\n",
    "\n",
    "# preparing plot\n",
    "bins = np.linspace(-kpc_aperture, kpc_aperture, int(np.ceil(2*kpc_aperture/kpc_pixel)+1))\n",
    "fig = plt.figure(figsize=(20,8))\n",
    "fig.subplots_adjust(wspace=0., hspace=0.)\n",
    "_temp = np.array([2*[0],2*[1]])\n",
    "_temp = np.dstack([_temp,_temp.T]).reshape((4,2))[:-1]\n",
    "_temp = np.vstack([_temp, _temp+[0,3]])\n",
    "axs = [plt.subplot2grid(shape=(2, 5), loc=loc, rowspan=1, colspan=1) for loc in _temp]\n",
    "for ax in axs[1:]: ax.sharex(axs[0]), ax.sharey(axs[0])\n",
    "axs[0].xaxis.set_tick_params(labeltop=True, labelbottom=False)\n",
    "axs[1].xaxis.set_tick_params(labeltop=True, labelbottom=True)\n",
    "axs[1].yaxis.set_tick_params(labelleft=False, labelright=True)\n",
    "axs[0].xaxis.set_label_position('top')\n",
    "axs[1].yaxis.set_label_position('right')\n",
    "axs[1].xaxis.set_label_position('top')\n",
    "axs[3].xaxis.set_tick_params(labeltop=True, labelbottom=False)\n",
    "axs[4].xaxis.set_tick_params(labeltop=True, labelbottom=True)\n",
    "axs[4].yaxis.set_tick_params(labelleft=False, labelright=True)\n",
    "axs[3].xaxis.set_label_position('top')\n",
    "axs[4].yaxis.set_label_position('right')\n",
    "axs[4].xaxis.set_label_position('top')\n",
    "\n",
    "# hide some axes for now\n",
    "for ax in axs[3:]: ax.set_visible(False)\n",
    "\n",
    "# plotting 2d histograms along each 3 principal axes\n",
    "_,_,_,h2d = axs[0].hist2d(pos_pa[:,0], pos_pa[:,2], bins=[bins,bins], norm=LogNorm(), cmap=cmap)\n",
    "vmin,vmax = h2d.get_clim()\n",
    "_,_,_,h2d = axs[1].hist2d(pos_pa[:,1], pos_pa[:,2], bins=[bins,bins], norm=LogNorm(vmin=vmin, vmax=vmax), cmap=cmap)\n",
    "_,_,_,h2d = axs[2].hist2d(pos_pa[:,0], pos_pa[:,1], bins=[bins,bins], norm=LogNorm(vmin=vmin, vmax=vmax), cmap=cmap)\n",
    "\n",
    "# setting up all the labels\n",
    "axs[2].set_xlabel('X [kpc]')\n",
    "axs[2].set_ylabel('Y [kpc]')\n",
    "axs[1].set_xlabel('Y [kpc]')\n",
    "axs[1].set_ylabel('Z [kpc]')\n",
    "axs[0].set_ylabel('Z [kpc]')\n",
    "axs[0].set_xlabel('X [kpc]')\n",
    "\n",
    "# detailing final subplots\n",
    "axs[2].set_aspect(1.0/axs[2].get_data_ratio())\n",
    "axs[0].set_facecolor(cmap(0))\n",
    "axs[1].set_facecolor(cmap(0))\n",
    "axs[2].set_facecolor(cmap(0))\n",
    "\n",
    "# setting up the colorbar\n",
    "ax0color_axis = axs[2].inset_axes([1, 0., 0.03, 1.], transform=axs[2].transAxes)\n",
    "ax0cbar = fig.colorbar(h2d, cax=ax0color_axis)\n",
    "ax0cbar.set_label('Number of stars\\nper pixel')\n"
   ]
  },
  {
   "attachments": {},
   "cell_type": "markdown",
   "metadata": {},
   "source": [
    "Defining some other star particle data"
   ]
  },
  {
   "cell_type": "code",
   "execution_count": null,
   "metadata": {},
   "outputs": [],
   "source": [
    "# array of velocities in principal axes (in km/s)\n",
    "vel_pa = part['star'].prop('host.velocity.principal')\n",
    "\n",
    "# array of star particle mass in solar masses\n",
    "mass = part['star']['mass']\n",
    "\n",
    "# array of decimal log stellar ages (in Gyr)\n",
    "log_age = np.log10(part['star'].prop('age') * 1e9)\n",
    "\n",
    "# array of star particle metallicities\n",
    "feh = part['star'].prop('metallicity.fe')\n",
    "\n",
    "abundances_list = ['helium', 'carbon', 'nitrogen', 'oxygen', 'neon', 'magnesium', 'silicon', 'sulfur', 'calcium']\n",
    "# dictionary of chemical abundance arrays (X/H)\n",
    "abundances = {'sulphur' if el == 'sulfur' else el: part['star'].prop('metallicity.' + el) for el in abundances_list}\n",
    "\n",
    "# alpha abundance (Mg/Fe)\n",
    "alpha = abundances['magnesium'] - feh"
   ]
  },
  {
   "attachments": {},
   "cell_type": "markdown",
   "metadata": {},
   "source": [
    "Preparing the star particles data to be used by `ananke`, masking only a sphere within 30 kpc"
   ]
  },
  {
   "cell_type": "code",
   "execution_count": null,
   "metadata": {},
   "outputs": [],
   "source": [
    "mask = np.linalg.norm(pos_pa, axis=1)<=30\n",
    "\n",
    "p = {}\n",
    "p['pos3'] = pos_pa[mask]    # position in kpc\n",
    "p['vel3'] = vel_pa[mask]    # velocity in km/s\n",
    "p['mass'] = mass[mask]      # mass in solar masses\n",
    "p['age'] = log_age[mask]    # log age in Gyr\n",
    "p['feh'] = feh[mask]        # [Fe/H]\n",
    "for el, abun in abundances.items():  \n",
    "    p[el] = abun[mask]      # other abundances as [X/H]\n",
    "\n",
    "p['alpha'] = alpha[mask]    # alpha abundance [Mg/Fe]\n",
    "\n",
    "p['parentid'] = np.where(mask)[0]           # indices of parent particles in snapshot\n",
    "p['dform'] = 0*p['mass']  # dummy variable for now"
   ]
  },
  {
   "attachments": {},
   "cell_type": "markdown",
   "metadata": {},
   "source": [
    "Now we can prepare the `ananke` surveyor. Default surveyor is set to simulate a Roman + HST photometric system."
   ]
  },
  {
   "cell_type": "code",
   "execution_count": null,
   "metadata": {},
   "outputs": [],
   "source": [
    "surveyor = an.Ananke(p, name='anankethon', fsample=fsample)"
   ]
  },
  {
   "attachments": {},
   "cell_type": "markdown",
   "metadata": {},
   "source": [
    "Let's make the surveyor survey!"
   ]
  },
  {
   "cell_type": "code",
   "execution_count": null,
   "metadata": {},
   "outputs": [],
   "source": [
    "survey = surveyor.run()"
   ]
  },
  {
   "attachments": {},
   "cell_type": "markdown",
   "metadata": {},
   "source": [
    "Due to the large memory footprint potential of the survey data, the output object interfaces a `vaex` memory-mapped dataframe"
   ]
  },
  {
   "cell_type": "code",
   "execution_count": null,
   "metadata": {},
   "outputs": [],
   "source": [
    "survey"
   ]
  },
  {
   "cell_type": "code",
   "execution_count": null,
   "metadata": {},
   "outputs": [],
   "source": [
    "type(survey)"
   ]
  },
  {
   "attachments": {},
   "cell_type": "markdown",
   "metadata": {},
   "source": [
    "Currently, accessing the underlying `vaex` dataframe can be done directly via the following property (planning to improve that in the future)"
   ]
  },
  {
   "cell_type": "code",
   "execution_count": null,
   "metadata": {},
   "outputs": [],
   "source": [
    "survey._vaex"
   ]
  },
  {
   "cell_type": "code",
   "execution_count": null,
   "metadata": {},
   "outputs": [],
   "source": [
    "type(survey._vaex)"
   ]
  },
  {
   "attachments": {},
   "cell_type": "markdown",
   "metadata": {},
   "source": [
    "That said, some operations are directly accessible from the output object"
   ]
  },
  {
   "cell_type": "code",
   "execution_count": null,
   "metadata": {},
   "outputs": [],
   "source": [
    "survey[['px','py','pz']]"
   ]
  },
  {
   "cell_type": "code",
   "execution_count": null,
   "metadata": {},
   "outputs": [],
   "source": [
    "survey.teff"
   ]
  },
  {
   "attachments": {},
   "cell_type": "markdown",
   "metadata": {},
   "source": [
    "To access the mock catalog bands for the chosen photometric system, they are selectable with the following string key syntax `f\"{name_of_photometric_system}_{name_of_band}\"` (that syntax might change in the future to `f\"{name_of_photometric_system}/{name_of_band}\"`, I'll raise a `DeprecationWarning` for a few version when that's effectively planned)"
   ]
  },
  {
   "cell_type": "code",
   "execution_count": null,
   "metadata": {},
   "outputs": [],
   "source": [
    "survey['wfirst-hst_f814w']"
   ]
  },
  {
   "cell_type": "code",
   "execution_count": null,
   "metadata": {},
   "outputs": [],
   "source": [
    "survey['wfirst-hst_h158']"
   ]
  },
  {
   "cell_type": "code",
   "execution_count": null,
   "metadata": {},
   "outputs": [],
   "source": [
    "survey[['wfirst-hst_z087','wfirst-hst_y106','wfirst-hst_j129','wfirst-hst_w149','wfirst-hst_h158','wfirst-hst_f184']]"
   ]
  },
  {
   "attachments": {},
   "cell_type": "markdown",
   "metadata": {},
   "source": [
    "Let's have a look at the population of synthetic star we created"
   ]
  },
  {
   "cell_type": "code",
   "execution_count": null,
   "metadata": {},
   "outputs": [],
   "source": [
    "# show axes that were hidden before \n",
    "for ax in axs[3:]: ax.set_visible(True)\n",
    "\n",
    "# converting vaex sub-dataframe to numpy\n",
    "mock_pos = survey[['px','py','pz']].to_pandas_df().to_numpy()\n",
    "\n",
    "# plotting 2d histograms along each 3 principal axes\n",
    "_,_,_,h2d = axs[3].hist2d(mock_pos[:,0], mock_pos[:,2], bins=[bins,bins], norm=LogNorm(), cmap=cmap)\n",
    "vmin,vmax = h2d.get_clim()\n",
    "_,_,_,h2d = axs[4].hist2d(mock_pos[:,1], mock_pos[:,2], bins=[bins,bins], norm=LogNorm(vmin=vmin, vmax=vmax), cmap=cmap)\n",
    "_,_,_,h2d = axs[5].hist2d(mock_pos[:,0], mock_pos[:,1], bins=[bins,bins], norm=LogNorm(vmin=vmin, vmax=vmax), cmap=cmap)\n",
    "\n",
    "# setting up all the labels\n",
    "axs[5].set_xlabel('X [kpc]')\n",
    "axs[5].set_ylabel('Y [kpc]')\n",
    "axs[4].set_xlabel('Y [kpc]')\n",
    "axs[4].set_ylabel('Z [kpc]')\n",
    "axs[3].set_ylabel('Z [kpc]')\n",
    "axs[3].set_xlabel('X [kpc]')\n",
    "\n",
    "# detailing final subplots\n",
    "axs[3].set_facecolor(cmap(0))\n",
    "axs[4].set_facecolor(cmap(0))\n",
    "axs[5].set_facecolor(cmap(0))\n",
    "\n",
    "# setting up the colorbar\n",
    "ax0color_axis = axs[5].inset_axes([1, 0., 0.03, 1.], transform=axs[5].transAxes)\n",
    "ax0cbar = fig.colorbar(h2d, cax=ax0color_axis)\n",
    "ax0cbar.set_label('Number of stars\\nper pixel')\n",
    "\n",
    "fig"
   ]
  },
  {
   "attachments": {},
   "cell_type": "markdown",
   "metadata": {},
   "source": [
    "While this is showing here the mock stars in their 3D coordinates, `ananke` also returns celestial coordinates"
   ]
  },
  {
   "cell_type": "code",
   "execution_count": null,
   "metadata": {},
   "outputs": [],
   "source": [
    "ra_deg = survey.ra.to_numpy()\n",
    "dec_deg = survey.dec.to_numpy()\n",
    "\n",
    "fig2 = plt.figure(figsize=(20,8))\n",
    "ax = fig2.add_subplot(111)\n",
    "\n",
    "_,_,_,h2d = ax.hist2d(ra_deg, dec_deg, bins=[np.linspace(0,360,int(np.ceil(361/sky_pix_deg))),\n",
    "                                             np.linspace(-90,90,int(np.ceil(181/sky_pix_deg)))],\n",
    "                                       norm=LogNorm(), cmap=cmap)\n",
    "\n",
    "# setting up all the labels\n",
    "ax.set_xlabel('RA [deg]')\n",
    "ax.set_ylabel('DEC [deg]')\n",
    "\n",
    "# detailing final subplots\n",
    "ax.set_facecolor(cmap(0))\n",
    "\n",
    "# setting up the colorbar\n",
    "ax0color_axis = ax.inset_axes([1, 0., 0.03, 1.], transform=ax.transAxes)\n",
    "ax0cbar = fig.colorbar(h2d, cax=ax0color_axis)\n",
    "ax0cbar.set_label('Number of stars\\nper pixel')"
   ]
  },
  {
   "cell_type": "code",
   "execution_count": null,
   "metadata": {},
   "outputs": [],
   "source": [
    "h2d.set_clim((100,h2d.get_clim()[1]))\n",
    "fig2"
   ]
  },
  {
   "attachments": {},
   "cell_type": "markdown",
   "metadata": {},
   "source": [
    "Let's also have a look at some hertzsprung russell/color magnitude diagrams"
   ]
  },
  {
   "cell_type": "code",
   "execution_count": null,
   "metadata": {},
   "outputs": [],
   "source": [
    "luminosity = survey.lum.to_numpy()\n",
    "temperature = survey.teff.to_numpy()\n",
    "\n",
    "fig3,axs=plt.subplots(nrows=1,ncols=3,figsize=(20,8), subplot_kw={'adjustable':'box'})\n",
    "fig3.subplots_adjust(wspace=0.8)\n",
    "for ax in axs[1:]: ax.set_visible(False)\n",
    "\n",
    "hb = axs[0].hexbin(temperature, luminosity, gridsize=(241),\n",
    "                   bins='log', cmap=hex_cmap)\n",
    "\n",
    "axs[0].invert_xaxis()\n",
    "axs[0].set_xlabel('log10(Temperature [Kelvin])')\n",
    "axs[0].set_ylabel('log10(Luminosity [Lsun])')\n",
    "axs[0].set_aspect(1.0/axs[0].get_data_ratio())\n",
    "\n",
    "ax0color_axis = axs[0].inset_axes([1, 0., 0.03, 1.], transform=axs[0].transAxes)\n",
    "\n",
    "ax0cbar = fig.colorbar(hb, cax=ax0color_axis, location='right')\n",
    "ax0cbar.set_label('Number of stars\\nper hexcell')\n"
   ]
  },
  {
   "cell_type": "code",
   "execution_count": null,
   "metadata": {},
   "outputs": [],
   "source": [
    "for ax in axs[1:]: ax.set_visible(True)\n",
    "\n",
    "mag_cmd1 = survey['wfirst-hst_f814w'].to_numpy()\n",
    "color_cmd1 = survey['wfirst-hst_f555w'].to_numpy() - mag_cmd1\n",
    "\n",
    "hb = axs[1].hexbin(color_cmd1, mag_cmd1, gridsize=(241),\n",
    "                   bins='log', cmap=hex_cmap)\n",
    "\n",
    "axs[1].invert_yaxis()\n",
    "axs[1].set_xlabel('{HST}: F555W-F814W')\n",
    "axs[1].set_ylabel('{HST}: F814W')\n",
    "axs[1].set_aspect(1.0/axs[1].get_data_ratio())\n",
    "\n",
    "ax1color_axis = axs[1].inset_axes([1, 0., 0.03, 1.], transform=axs[1].transAxes)\n",
    "\n",
    "ax1cbar = fig.colorbar(hb, cax=ax1color_axis, location='right')\n",
    "ax1cbar.set_label('Number of stars\\nper hexcell')\n",
    "\n",
    "\n",
    "mag_cmd2 = survey['wfirst-hst_f184'].to_numpy()\n",
    "color_cmd2 = survey['wfirst-hst_z087'].to_numpy() - mag_cmd2\n",
    "\n",
    "hb = axs[2].hexbin(color_cmd2, mag_cmd2, gridsize=(241),\n",
    "                   bins='log', cmap=hex_cmap)\n",
    "\n",
    "axs[2].invert_yaxis()\n",
    "axs[2].set_xlabel('{Roman}: F087-F158')\n",
    "axs[2].set_ylabel('{Roman}: F158')\n",
    "axs[2].set_aspect(1.0/axs[2].get_data_ratio())\n",
    "\n",
    "ax2color_axis = axs[2].inset_axes([1, 0., 0.03, 1.], transform=axs[2].transAxes)\n",
    "\n",
    "ax2cbar = fig.colorbar(hb, cax=ax2color_axis, location='right')\n",
    "ax2cbar.set_label('Number of stars\\nper hexcell')\n",
    "\n",
    "fig3\n"
   ]
  },
  {
   "attachments": {},
   "cell_type": "markdown",
   "metadata": {},
   "source": [
    "This photometric system isn't the only one natively built in `py-ananke`, there a couple of others although just a couple. We plan to add more in the future, this is work in progress for now. This command will return which can be used:"
   ]
  },
  {
   "cell_type": "code",
   "execution_count": null,
   "metadata": {},
   "outputs": [],
   "source": [
    "# for now, it is necessary to import Galaxia's submodule\n",
    "import Galaxia_ananke\n",
    "\n",
    "Galaxia_ananke.photometry.available_photo_systems"
   ]
  },
  {
   "attachments": {},
   "cell_type": "markdown",
   "metadata": {},
   "source": [
    "That said, if you wish to add your own photometric system, this is currently possible but we hope to improve the API"
   ]
  },
  {
   "cell_type": "code",
   "execution_count": null,
   "metadata": {},
   "outputs": [],
   "source": [
    "iso = Galaxia_ananke.photometry.available_photo_systems['padova/WFIRST-HST']\n",
    "\n",
    "isochrone_data = {i_file.metallicity: i_file.data.to_pandas()[\n",
    "    ['log(age/yr)', 'M_ini', 'M_act', 'logL/Lo', 'logTe', 'logG', 'Z087', 'Y106', 'J129', 'H158', 'F184', 'W149', 'F475W', 'F555W', 'F606W', 'F814W', 'F110W', 'F160W']\n",
    "    ].rename(columns=dict(zip(['log(age/yr)', 'M_ini', 'M_act', 'logL/Lo', 'logTe', 'logG'],['Age','M_ini', 'M_act', 'Lum', 'T_eff', 'Grav'])))\n",
    "    for i_file in iso.isochrone_files}\n"
   ]
  },
  {
   "cell_type": "code",
   "execution_count": null,
   "metadata": {},
   "outputs": [],
   "source": [
    "np.array(list(isochrone_data.keys()))"
   ]
  },
  {
   "cell_type": "code",
   "execution_count": null,
   "metadata": {},
   "outputs": [],
   "source": [
    "isochrone_data[0.008]"
   ]
  },
  {
   "cell_type": "code",
   "execution_count": null,
   "metadata": {},
   "outputs": [],
   "source": [
    "# Galaxia_ananke.photometry.available_photo_systems.add_isochrone('Test', isochrone_data)\n",
    "\n",
    "# new_iso = Galaxia_ananke.photometry.available_photo_systems['py_custom/Test']"
   ]
  }
 ],
 "metadata": {
  "kernelspec": {
   "display_name": "main",
   "language": "python",
   "name": "python3"
  },
  "language_info": {
   "codemirror_mode": {
    "name": "ipython",
    "version": 3
   },
   "file_extension": ".py",
   "mimetype": "text/x-python",
   "name": "python",
   "nbconvert_exporter": "python",
   "pygments_lexer": "ipython3",
   "version": "3.10.10"
  },
  "orig_nbformat": 4
 },
 "nbformat": 4,
 "nbformat_minor": 2
}
